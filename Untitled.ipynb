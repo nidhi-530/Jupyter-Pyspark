{
 "cells": [
  {
   "cell_type": "code",
   "execution_count": 53,
   "id": "fc0167f5",
   "metadata": {},
   "outputs": [
    {
     "name": "stdout",
     "output_type": "stream",
     "text": [
      "78\n"
     ]
    }
   ],
   "source": [
    "myRDD = sc.parallelize([1,2,3,4,5,6,7,8,9,10,11,12])\n",
    "myRDD.count()"
   ]
  },
  {
   "cell_type": "code",
   "execution_count": 54,
   "id": "6dba9888",
   "metadata": {},
   "outputs": [
    {
     "data": {
      "text/plain": [
       "[1, 2, 3]"
      ]
     },
     "execution_count": 54,
     "metadata": {},
     "output_type": "execute_result"
    }
   ],
   "source": [
    "myRDD = sc.parallelize([1,2,3,4,5,6,7,8,9,10,11,12])\n",
    "myRDD.take(3)"
   ]
  },
  {
   "cell_type": "code",
   "execution_count": 55,
   "id": "05c11c2f",
   "metadata": {},
   "outputs": [
    {
     "name": "stdout",
     "output_type": "stream",
     "text": [
      "78\n"
     ]
    }
   ],
   "source": [
    "myRDD = sc.parallelize([1,2,3,4,5,6,7,8,9,10,11,12])\n",
    "myRDD.reduce(lambda x, y : x + y)"
   ]
  },
  {
   "cell_type": "code",
   "execution_count": 56,
   "id": "ade4d0fe",
   "metadata": {},
   "outputs": [],
   "source": [
    "myRDD = sc.parallelize([1,2,3,4,5,6,7,8,9,10,11,12])\n",
    "myRDD.saveAsTextFile('file.txt')"
   ]
  },
  {
   "cell_type": "code",
   "execution_count": 57,
   "id": "de4fe1e1",
   "metadata": {},
   "outputs": [
    {
     "data": {
      "text/plain": [
       "[[1], [2], [3, 4], [5], [6, 7], [8], [9, 10], [11], [12, 13]]"
      ]
     },
     "execution_count": 57,
     "metadata": {},
     "output_type": "execute_result"
    }
   ],
   "source": [
    "myRDD = sc.parallelize([1,2,3,4,5,6,7,8,9,10,11,12,13],9)\n",
    "myRDD.glom().collect()"
   ]
  },
  {
   "cell_type": "code",
   "execution_count": 23,
   "id": "ea4a167c",
   "metadata": {},
   "outputs": [
    {
     "data": {
      "text/plain": [
       "[('Java', 20000), ('Python', 100000), ('Scala', 3000)]"
      ]
     },
     "execution_count": 23,
     "metadata": {},
     "output_type": "execute_result"
    }
   ],
   "source": [
    "dataList = [(\"Java\", 20000), (\"Python\", 100000), (\"Scala\", 3000)]\n",
    "rdd = sc.parallelize(dataList)\n",
    "rdd.collect()"
   ]
  },
  {
   "cell_type": "code",
   "execution_count": 62,
   "id": "4be2291c",
   "metadata": {},
   "outputs": [
    {
     "data": {
      "text/plain": [
       "[11, 12, 13, 14]"
      ]
     },
     "execution_count": 62,
     "metadata": {},
     "output_type": "execute_result"
    }
   ],
   "source": [
    "my_rdd = sc.parallelize([1,2,3,4])\n",
    "my_rdd.map(lambda x: x+ 10).collect()"
   ]
  },
  {
   "cell_type": "code",
   "execution_count": 59,
   "id": "93f0a7ae",
   "metadata": {},
   "outputs": [
    {
     "data": {
      "text/plain": [
       "[2, 4, 6]"
      ]
     },
     "execution_count": 59,
     "metadata": {},
     "output_type": "execute_result"
    }
   ],
   "source": [
    "filter_rdd = sc.parallelize([2, 3, 4, 5, 6, 7])\n",
    "filter_rdd.filter(lambda x: x%2 == 0).collect()"
   ]
  },
  {
   "cell_type": "code",
   "execution_count": 67,
   "id": "0aa468d1",
   "metadata": {},
   "outputs": [
    {
     "data": {
      "text/plain": [
       "['Rahul', 'Rohan']"
      ]
     },
     "execution_count": 67,
     "metadata": {},
     "output_type": "execute_result"
    }
   ],
   "source": [
    "filter_rdd = sc.parallelize(['Rahul', 'Swati', 'Rohan', 'Shreya', 'Priya'])\n",
    "filter_rdd.filter(lambda x: x.startswith('R')).collect()"
   ]
  },
  {
   "cell_type": "code",
   "execution_count": 68,
   "id": "a30238d3",
   "metadata": {},
   "outputs": [
    {
     "data": {
      "text/plain": [
       "[2, 4, 6, 8, 12, 32, 6, 9, 12]"
      ]
     },
     "execution_count": 68,
     "metadata": {},
     "output_type": "execute_result"
    }
   ],
   "source": [
    "data = sc.parallelize([2,4,5,6,7,8,9,12,23,13,11,19,32])\n",
    "union_1 = data.filter(lambda x: x % 2 == 0)\n",
    "union_2 = data.filter(lambda x: x % 3 == 0)\n",
    "union_1.union(union_2).collect()"
   ]
  },
  {
   "cell_type": "code",
   "execution_count": 69,
   "id": "953f6f49",
   "metadata": {},
   "outputs": [
    {
     "data": {
      "text/plain": [
       "['Hey', 'there', 'welcome', 'This', 'is', 'PySpark', 'RDD', 'Transformations']"
      ]
     },
     "execution_count": 69,
     "metadata": {},
     "output_type": "execute_result"
    }
   ],
   "source": [
    "data = sc.parallelize([\"Hey there\",\"welcome\",\"This is PySpark RDD\",\"Transformations\"])\n",
    "data.flatMap(lambda x: x.split(\" \")).collect()"
   ]
  },
  {
   "cell_type": "code",
   "execution_count": 72,
   "id": "569b24a2",
   "metadata": {},
   "outputs": [
    {
     "data": {
      "text/plain": [
       "[('Shreya', 50),\n",
       " ('Swati', 19),\n",
       " ('Rahul', 48),\n",
       " ('Swat', 26),\n",
       " ('Abhay', 55),\n",
       " ('Rohan', 44)]"
      ]
     },
     "execution_count": 72,
     "metadata": {},
     "output_type": "execute_result"
    }
   ],
   "source": [
    "data_mark = sc.parallelize([('Rahul', 25), ('Swat', 26), ('Shreya', 22), ('Abhay', 29), ('Rohan', 22), ('Rahul', 23), ('Swati', 19), ('Shreya', 28), ('Abhay', 26), ('Rohan', 22)])\n",
    "data_mark.reduceByKey(lambda x, y: x + y).collect()"
   ]
  },
  {
   "cell_type": "code",
   "execution_count": null,
   "id": "05a1937b",
   "metadata": {},
   "outputs": [],
   "source": []
  }
 ],
 "metadata": {
  "kernelspec": {
   "display_name": "Python 3 (ipykernel)",
   "language": "python",
   "name": "python3"
  },
  "language_info": {
   "codemirror_mode": {
    "name": "ipython",
    "version": 3
   },
   "file_extension": ".py",
   "mimetype": "text/x-python",
   "name": "python",
   "nbconvert_exporter": "python",
   "pygments_lexer": "ipython3",
   "version": "3.8.10"
  }
 },
 "nbformat": 4,
 "nbformat_minor": 5
}
